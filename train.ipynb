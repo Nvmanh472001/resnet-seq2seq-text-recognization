{
 "cells": [
  {
   "cell_type": "code",
   "execution_count": null,
   "metadata": {},
   "outputs": [],
   "source": [
    "from model.utils import get_config_from_file\n",
    "yaml_path = './model/config/base.yml'\n",
    "\n",
    "config = get_config_from_file(yaml_path)"
   ]
  }
 ],
 "metadata": {
  "language_info": {
   "name": "python"
  },
  "orig_nbformat": 4
 },
 "nbformat": 4,
 "nbformat_minor": 2
}
